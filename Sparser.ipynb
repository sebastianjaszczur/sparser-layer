{
  "nbformat": 4,
  "nbformat_minor": 0,
  "metadata": {
    "colab": {
      "name": "Sparser.ipynb",
      "version": "0.3.2",
      "provenance": [],
      "include_colab_link": true
    },
    "kernelspec": {
      "name": "python3",
      "display_name": "Python 3"
    },
    "accelerator": "GPU"
  },
  "cells": [
    {
      "cell_type": "markdown",
      "metadata": {
        "id": "view-in-github",
        "colab_type": "text"
      },
      "source": [
        "[View in Colaboratory](https://colab.research.google.com/github/sebastianjaszczur/sparser-layer/blob/master/Sparser.ipynb)"
      ]
    },
    {
      "metadata": {
        "id": "3uV6UIvJjdme",
        "colab_type": "code",
        "colab": {
          "base_uri": "https://localhost:8080/",
          "height": 68
        },
        "outputId": "af07eac8-d1e4-4760-f848-057f72cf871a"
      },
      "cell_type": "code",
      "source": [
        "from keras.datasets import boston_housing\n",
        "\n",
        "(x_train, y_train), (x_test, y_test) = boston_housing.load_data()"
      ],
      "execution_count": 0,
      "outputs": [
        {
          "output_type": "stream",
          "text": [
            "Using TensorFlow backend.\n"
          ],
          "name": "stderr"
        },
        {
          "output_type": "stream",
          "text": [
            "Downloading data from https://s3.amazonaws.com/keras-datasets/boston_housing.npz\n",
            "57344/57026 [==============================] - 0s 4us/step\n"
          ],
          "name": "stdout"
        }
      ]
    },
    {
      "metadata": {
        "id": "rB-Lv5u4jx2S",
        "colab_type": "code",
        "colab": {
          "base_uri": "https://localhost:8080/",
          "height": 34
        },
        "outputId": "cbdfb284-707e-45cf-864c-34085f0b78aa"
      },
      "cell_type": "code",
      "source": [
        "x_train.shape"
      ],
      "execution_count": 0,
      "outputs": [
        {
          "output_type": "execute_result",
          "data": {
            "text/plain": [
              "(404, 13)"
            ]
          },
          "metadata": {
            "tags": []
          },
          "execution_count": 2
        }
      ]
    },
    {
      "metadata": {
        "id": "WbZ-0N-ukRrS",
        "colab_type": "code",
        "colab": {}
      },
      "cell_type": "code",
      "source": [
        "from keras import Sequential"
      ],
      "execution_count": 0,
      "outputs": []
    },
    {
      "metadata": {
        "id": "TxXNFQZ5koQF",
        "colab_type": "code",
        "colab": {}
      },
      "cell_type": "code",
      "source": [
        "from keras.layers import Dense, Input, Layer, Activation\n",
        "from keras.models import Model\n",
        "from keras.optimizers import Adam\n",
        "from keras.activations import relu\n",
        "from keras.initializers import RandomNormal \n",
        "from keras import backend as K"
      ],
      "execution_count": 0,
      "outputs": []
    },
    {
      "metadata": {
        "id": "NRBkcWjXrfbV",
        "colab_type": "code",
        "colab": {}
      },
      "cell_type": "code",
      "source": [
        "UID = 1\n",
        "def uid():\n",
        "  global UID\n",
        "  UID += 1\n",
        "  return UID"
      ],
      "execution_count": 0,
      "outputs": []
    },
    {
      "metadata": {
        "id": "2QmuCHzDmkK5",
        "colab_type": "code",
        "colab": {}
      },
      "cell_type": "code",
      "source": [
        "# Sparser layer with less weights.\n",
        "class Sparser(Layer):\n",
        "    def __init__(self, size, **kwargs):\n",
        "        self.size = int(size)\n",
        "        super(Sparser, self).__init__(**kwargs)\n",
        "\n",
        "    def build(self, input_shape):\n",
        "        assert(input_shape[1] == self.size)\n",
        "        super(Sparser, self).build(input_shape)  # Be sure to call this at the end\n",
        "\n",
        "    def call(self, x):\n",
        "        def basic_sparse(x):\n",
        "          if x.shape[1] > 2:\n",
        "            half = int(x.shape[1] // 2)\n",
        "            shalf = int(x.shape[1] - half)\n",
        "            x1 = x[:, :half]\n",
        "            x2 = x[:, half:]\n",
        "            \n",
        "            w = [[self.add_weight(name='w'+str(uid()), shape=(half,),\n",
        "                                  initializer=RandomNormal(mean=0.0, stddev=0.5, seed=None),\n",
        "                                  trainable=True)\n",
        "                  for i in range(2)] for j in range(2)]\n",
        "            \n",
        "            y1 = w[0][0] * x1 + w[0][1] * x2\n",
        "            y2 = w[1][0] * x1 + w[1][1] * x2\n",
        "            f1 = basic_sparse(y1)\n",
        "            f2 = basic_sparse(y2)\n",
        "            return K.concatenate([f1, f2])\n",
        "          else:\n",
        "            return x\n",
        "        return basic_sparse(x)\n",
        "\n",
        "    def compute_output_shape(self, input_shape):\n",
        "        return input_shape"
      ],
      "execution_count": 0,
      "outputs": []
    },
    {
      "metadata": {
        "id": "bFoRG7-FkaTU",
        "colab_type": "code",
        "colab": {}
      },
      "cell_type": "code",
      "source": [
        "def get_model(layer=Dense, lsize=256, lr=0.003):\n",
        "    inp = Input((13,), dtype=\"float32\")\n",
        "    prep = Dense(lsize)\n",
        "    prep.trainable = False\n",
        "    prep = prep(inp)\n",
        "    mid = layer(lsize)(prep)\n",
        "    mid = Activation('relu')(mid)\n",
        "    mid = layer(lsize)(mid)\n",
        "    mid = Activation('relu')(mid)\n",
        "    mid = layer(lsize)(mid)\n",
        "    mid = Activation('relu')(mid)\n",
        "    final = Dense(1)\n",
        "    final.trainable = False\n",
        "    final = final(mid)\n",
        "\n",
        "    model = Model(inputs=inp, outputs=final)\n",
        "    adam = Adam(lr=lr)\n",
        "    model.compile(optimizer=adam,\n",
        "                  loss='mse')\n",
        "    return model"
      ],
      "execution_count": 0,
      "outputs": []
    },
    {
      "metadata": {
        "id": "YViKl7KSvCJI",
        "colab_type": "code",
        "colab": {
          "base_uri": "https://localhost:8080/",
          "height": 391
        },
        "outputId": "4caec8b3-b044-4ade-81a5-9e95d4363641"
      },
      "cell_type": "code",
      "source": [
        "model = get_model(Dense, 128)\n",
        "model.fit(x_train, y_train, epochs=10, batch_size=4, validation_data=(x_test, y_test))"
      ],
      "execution_count": 0,
      "outputs": [
        {
          "output_type": "stream",
          "text": [
            "Train on 404 samples, validate on 102 samples\n",
            "Epoch 1/10\n",
            "404/404 [==============================] - 6s 16ms/step - loss: 196.7714 - val_loss: 91.3666\n",
            "Epoch 2/10\n",
            "404/404 [==============================] - 1s 2ms/step - loss: 81.9851 - val_loss: 77.1448\n",
            "Epoch 3/10\n",
            "404/404 [==============================] - 1s 2ms/step - loss: 71.8224 - val_loss: 61.6950\n",
            "Epoch 4/10\n",
            "404/404 [==============================] - 1s 2ms/step - loss: 79.9837 - val_loss: 69.8852\n",
            "Epoch 5/10\n",
            "404/404 [==============================] - 1s 2ms/step - loss: 80.3199 - val_loss: 65.7092\n",
            "Epoch 6/10\n",
            "404/404 [==============================] - 1s 2ms/step - loss: 65.4707 - val_loss: 72.6224\n",
            "Epoch 7/10\n",
            "404/404 [==============================] - 1s 2ms/step - loss: 67.0996 - val_loss: 102.3761\n",
            "Epoch 8/10\n",
            "404/404 [==============================] - 1s 2ms/step - loss: 63.9766 - val_loss: 60.5895\n",
            "Epoch 9/10\n",
            "404/404 [==============================] - 1s 2ms/step - loss: 68.9157 - val_loss: 68.0684\n",
            "Epoch 10/10\n",
            "404/404 [==============================] - 1s 2ms/step - loss: 67.6493 - val_loss: 74.7066\n"
          ],
          "name": "stdout"
        },
        {
          "output_type": "execute_result",
          "data": {
            "text/plain": [
              "<keras.callbacks.History at 0x7f45e0b9cb38>"
            ]
          },
          "metadata": {
            "tags": []
          },
          "execution_count": 20
        }
      ]
    },
    {
      "metadata": {
        "id": "m6iLrwHUlhf3",
        "colab_type": "code",
        "colab": {
          "base_uri": "https://localhost:8080/",
          "height": 411
        },
        "outputId": "a51c5ce4-4e78-41a8-bcd7-657f8deea5b2"
      },
      "cell_type": "code",
      "source": [
        "model = get_model(Sparser, 128)\n",
        "model.fit(x_train, y_train, epochs=10, batch_size=4, validation_data=(x_test, y_test))"
      ],
      "execution_count": 0,
      "outputs": [
        {
          "output_type": "stream",
          "text": [
            "Train on 404 samples, validate on 102 samples\n",
            "Epoch 1/10\n",
            "404/404 [==============================] - 77s 190ms/step - loss: 292.3973 - val_loss: 85.1260\n",
            "Epoch 2/10\n",
            "404/404 [==============================] - 35s 86ms/step - loss: 80.4807 - val_loss: 75.9410\n",
            "Epoch 3/10\n",
            "404/404 [==============================] - 34s 85ms/step - loss: 68.4536 - val_loss: 68.0781\n",
            "Epoch 4/10\n",
            "268/404 [==================>...........] - ETA: 11s - loss: 69.8054"
          ],
          "name": "stdout"
        },
        {
          "output_type": "stream",
          "text": [
            "404/404 [==============================] - 34s 85ms/step - loss: 65.4779 - val_loss: 64.9852\n",
            "Epoch 5/10\n",
            "404/404 [==============================] - 34s 85ms/step - loss: 63.5468 - val_loss: 64.0440\n",
            "Epoch 6/10\n",
            "404/404 [==============================] - 34s 85ms/step - loss: 62.6695 - val_loss: 62.3105\n",
            "Epoch 7/10\n",
            "404/404 [==============================] - 34s 85ms/step - loss: 66.2048 - val_loss: 63.8538\n",
            "Epoch 8/10\n",
            "108/404 [=======>......................] - ETA: 24s - loss: 57.3301"
          ],
          "name": "stdout"
        },
        {
          "output_type": "stream",
          "text": [
            "404/404 [==============================] - 35s 86ms/step - loss: 62.8452 - val_loss: 62.6100\n",
            "Epoch 9/10\n",
            "404/404 [==============================] - 34s 85ms/step - loss: 61.5182 - val_loss: 62.5345\n",
            "Epoch 10/10\n",
            "404/404 [==============================] - 35s 86ms/step - loss: 61.9458 - val_loss: 62.7524\n"
          ],
          "name": "stdout"
        },
        {
          "output_type": "execute_result",
          "data": {
            "text/plain": [
              "<keras.callbacks.History at 0x7f45e1e6bf98>"
            ]
          },
          "metadata": {
            "tags": []
          },
          "execution_count": 22
        }
      ]
    },
    {
      "metadata": {
        "id": "yDcT-FYuvUmn",
        "colab_type": "code",
        "colab": {
          "base_uri": "https://localhost:8080/",
          "height": 34
        },
        "outputId": "ec8828b9-b67d-42f8-9ac8-c0e681ef4f0a"
      },
      "cell_type": "code",
      "source": [
        "(sum(int(w.shape[0]) for w in model.weights) - 129*14) / 3\n"
      ],
      "execution_count": 0,
      "outputs": [
        {
          "output_type": "execute_result",
          "data": {
            "text/plain": [
              "1024.0"
            ]
          },
          "metadata": {
            "tags": []
          },
          "execution_count": 32
        }
      ]
    }
  ]
}